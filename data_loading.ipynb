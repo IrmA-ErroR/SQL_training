{
 "cells": [
  {
   "cell_type": "code",
   "execution_count": 6,
   "metadata": {},
   "outputs": [],
   "source": [
    "import numpy as np\n",
    "import pandas as pd\n",
    "import psycopg2\n",
    "from psycopg2.extras import execute_batch\n",
    "import re"
   ]
  },
  {
   "cell_type": "code",
   "execution_count": 7,
   "metadata": {},
   "outputs": [],
   "source": [
    "# Настройки подключения к PostgreSQL\n",
    "DB_CONFIG = {\n",
    "    \"dbname\": \"bank_data\",\n",
    "    \"user\": \"postgres\",\n",
    "    \"password\": \"cjkysirj22\",\n",
    "    \"host\": \"localhost\",\n",
    "    \"port\": \"5432\"\n",
    "}"
   ]
  },
  {
   "cell_type": "code",
   "execution_count": 8,
   "metadata": {},
   "outputs": [],
   "source": [
    "# Функция для преобразования типов (из NumPy → Python)\n",
    "def convert_types(row):\n",
    "    return tuple(\n",
    "        int(x) if isinstance(x, (np.int64, np.int32)) else\n",
    "        float(x) if isinstance(x, (np.float64, np.float32)) else\n",
    "        bool(x) if isinstance(x, (np.bool_, bool)) else\n",
    "        str(x) if isinstance(x, (np.datetime64, pd.Timestamp)) else\n",
    "        x\n",
    "        for x in row\n",
    "    )"
   ]
  },
  {
   "cell_type": "code",
   "execution_count": 9,
   "metadata": {},
   "outputs": [],
   "source": [
    "def insert_data(table_name, dataframe):\n",
    "    conn = psycopg2.connect(**DB_CONFIG)\n",
    "    cursor = conn.cursor()\n",
    "\n",
    "    cols = ', '.join(dataframe.columns)\n",
    "    values_template = ', '.join(['%s'] * len(dataframe.columns))\n",
    "    query = f\"INSERT INTO card_transactions.{table_name} ({cols}) VALUES ({values_template}) ON CONFLICT DO NOTHING;\"\n",
    "\n",
    "    # Конвертируем типы перед вставкой\n",
    "    records = [convert_types(row) for row in dataframe.to_records(index=False)]\n",
    "\n",
    "    execute_batch(cursor, query, records)\n",
    "\n",
    "    conn.commit()\n",
    "    cursor.close()\n",
    "    conn.close()"
   ]
  },
  {
   "cell_type": "markdown",
   "metadata": {},
   "source": [
    "# Загружаем датасет"
   ]
  },
  {
   "cell_type": "code",
   "execution_count": null,
   "metadata": {},
   "outputs": [
    {
     "data": {
      "text/html": [
       "<div>\n",
       "<style scoped>\n",
       "    .dataframe tbody tr th:only-of-type {\n",
       "        vertical-align: middle;\n",
       "    }\n",
       "\n",
       "    .dataframe tbody tr th {\n",
       "        vertical-align: top;\n",
       "    }\n",
       "\n",
       "    .dataframe thead th {\n",
       "        text-align: right;\n",
       "    }\n",
       "</style>\n",
       "<table border=\"1\" class=\"dataframe\">\n",
       "  <thead>\n",
       "    <tr style=\"text-align: right;\">\n",
       "      <th></th>\n",
       "      <th>transaction_id</th>\n",
       "      <th>customer_id</th>\n",
       "      <th>card_number</th>\n",
       "      <th>timestamp</th>\n",
       "      <th>merchant_category</th>\n",
       "      <th>merchant_type</th>\n",
       "      <th>merchant</th>\n",
       "      <th>amount</th>\n",
       "      <th>currency</th>\n",
       "      <th>country</th>\n",
       "      <th>...</th>\n",
       "      <th>device</th>\n",
       "      <th>channel</th>\n",
       "      <th>device_fingerprint</th>\n",
       "      <th>ip_address</th>\n",
       "      <th>distance_from_home</th>\n",
       "      <th>high_risk_merchant</th>\n",
       "      <th>transaction_hour</th>\n",
       "      <th>weekend_transaction</th>\n",
       "      <th>velocity_last_hour</th>\n",
       "      <th>is_fraud</th>\n",
       "    </tr>\n",
       "  </thead>\n",
       "  <tbody>\n",
       "    <tr>\n",
       "      <th>0</th>\n",
       "      <td>TX_a0ad2a2a</td>\n",
       "      <td>CUST_72886</td>\n",
       "      <td>6646734767813109</td>\n",
       "      <td>2024-09-30 00:00:01.034820+00:00</td>\n",
       "      <td>Restaurant</td>\n",
       "      <td>fast_food</td>\n",
       "      <td>Taco Bell</td>\n",
       "      <td>294.87</td>\n",
       "      <td>GBP</td>\n",
       "      <td>UK</td>\n",
       "      <td>...</td>\n",
       "      <td>iOS App</td>\n",
       "      <td>mobile</td>\n",
       "      <td>e8e6160445c935fd0001501e4cbac8bc</td>\n",
       "      <td>197.153.60.199</td>\n",
       "      <td>0</td>\n",
       "      <td>False</td>\n",
       "      <td>0</td>\n",
       "      <td>False</td>\n",
       "      <td>{'num_transactions': 1197, 'total_amount': 334...</td>\n",
       "      <td>False</td>\n",
       "    </tr>\n",
       "    <tr>\n",
       "      <th>1</th>\n",
       "      <td>TX_3599c101</td>\n",
       "      <td>CUST_70474</td>\n",
       "      <td>376800864692727</td>\n",
       "      <td>2024-09-30 00:00:01.764464+00:00</td>\n",
       "      <td>Entertainment</td>\n",
       "      <td>gaming</td>\n",
       "      <td>Steam</td>\n",
       "      <td>3368.97</td>\n",
       "      <td>BRL</td>\n",
       "      <td>Brazil</td>\n",
       "      <td>...</td>\n",
       "      <td>Edge</td>\n",
       "      <td>web</td>\n",
       "      <td>a73043a57091e775af37f252b3a32af9</td>\n",
       "      <td>208.123.221.203</td>\n",
       "      <td>1</td>\n",
       "      <td>True</td>\n",
       "      <td>0</td>\n",
       "      <td>False</td>\n",
       "      <td>{'num_transactions': 509, 'total_amount': 2011...</td>\n",
       "      <td>True</td>\n",
       "    </tr>\n",
       "    <tr>\n",
       "      <th>2</th>\n",
       "      <td>TX_a9461c6d</td>\n",
       "      <td>CUST_10715</td>\n",
       "      <td>5251909460951913</td>\n",
       "      <td>2024-09-30 00:00:02.273762+00:00</td>\n",
       "      <td>Grocery</td>\n",
       "      <td>physical</td>\n",
       "      <td>Whole Foods</td>\n",
       "      <td>102582.38</td>\n",
       "      <td>JPY</td>\n",
       "      <td>Japan</td>\n",
       "      <td>...</td>\n",
       "      <td>Firefox</td>\n",
       "      <td>web</td>\n",
       "      <td>218864e94ceaa41577d216b149722261</td>\n",
       "      <td>10.194.159.204</td>\n",
       "      <td>0</td>\n",
       "      <td>False</td>\n",
       "      <td>0</td>\n",
       "      <td>False</td>\n",
       "      <td>{'num_transactions': 332, 'total_amount': 3916...</td>\n",
       "      <td>False</td>\n",
       "    </tr>\n",
       "    <tr>\n",
       "      <th>3</th>\n",
       "      <td>TX_7be21fc4</td>\n",
       "      <td>CUST_16193</td>\n",
       "      <td>376079286931183</td>\n",
       "      <td>2024-09-30 00:00:02.297466+00:00</td>\n",
       "      <td>Gas</td>\n",
       "      <td>major</td>\n",
       "      <td>Exxon</td>\n",
       "      <td>630.60</td>\n",
       "      <td>AUD</td>\n",
       "      <td>Australia</td>\n",
       "      <td>...</td>\n",
       "      <td>iOS App</td>\n",
       "      <td>mobile</td>\n",
       "      <td>70423fa3a1e74d01203cf93b51b9631d</td>\n",
       "      <td>17.230.177.225</td>\n",
       "      <td>0</td>\n",
       "      <td>False</td>\n",
       "      <td>0</td>\n",
       "      <td>False</td>\n",
       "      <td>{'num_transactions': 764, 'total_amount': 2201...</td>\n",
       "      <td>False</td>\n",
       "    </tr>\n",
       "    <tr>\n",
       "      <th>4</th>\n",
       "      <td>TX_150f490b</td>\n",
       "      <td>CUST_87572</td>\n",
       "      <td>6172948052178810</td>\n",
       "      <td>2024-09-30 00:00:02.544063+00:00</td>\n",
       "      <td>Healthcare</td>\n",
       "      <td>medical</td>\n",
       "      <td>Medical Center</td>\n",
       "      <td>724949.27</td>\n",
       "      <td>NGN</td>\n",
       "      <td>Nigeria</td>\n",
       "      <td>...</td>\n",
       "      <td>Chrome</td>\n",
       "      <td>web</td>\n",
       "      <td>9880776c7b6038f2af86bd4e18a1b1a4</td>\n",
       "      <td>136.241.219.151</td>\n",
       "      <td>1</td>\n",
       "      <td>False</td>\n",
       "      <td>0</td>\n",
       "      <td>False</td>\n",
       "      <td>{'num_transactions': 218, 'total_amount': 4827...</td>\n",
       "      <td>True</td>\n",
       "    </tr>\n",
       "  </tbody>\n",
       "</table>\n",
       "<p>5 rows × 24 columns</p>\n",
       "</div>"
      ],
      "text/plain": [
       "  transaction_id customer_id       card_number  \\\n",
       "0    TX_a0ad2a2a  CUST_72886  6646734767813109   \n",
       "1    TX_3599c101  CUST_70474   376800864692727   \n",
       "2    TX_a9461c6d  CUST_10715  5251909460951913   \n",
       "3    TX_7be21fc4  CUST_16193   376079286931183   \n",
       "4    TX_150f490b  CUST_87572  6172948052178810   \n",
       "\n",
       "                          timestamp merchant_category merchant_type  \\\n",
       "0  2024-09-30 00:00:01.034820+00:00        Restaurant     fast_food   \n",
       "1  2024-09-30 00:00:01.764464+00:00     Entertainment        gaming   \n",
       "2  2024-09-30 00:00:02.273762+00:00           Grocery      physical   \n",
       "3  2024-09-30 00:00:02.297466+00:00               Gas         major   \n",
       "4  2024-09-30 00:00:02.544063+00:00        Healthcare       medical   \n",
       "\n",
       "         merchant     amount currency    country  ...   device channel  \\\n",
       "0       Taco Bell     294.87      GBP         UK  ...  iOS App  mobile   \n",
       "1           Steam    3368.97      BRL     Brazil  ...     Edge     web   \n",
       "2     Whole Foods  102582.38      JPY      Japan  ...  Firefox     web   \n",
       "3           Exxon     630.60      AUD  Australia  ...  iOS App  mobile   \n",
       "4  Medical Center  724949.27      NGN    Nigeria  ...   Chrome     web   \n",
       "\n",
       "                 device_fingerprint       ip_address distance_from_home  \\\n",
       "0  e8e6160445c935fd0001501e4cbac8bc   197.153.60.199                  0   \n",
       "1  a73043a57091e775af37f252b3a32af9  208.123.221.203                  1   \n",
       "2  218864e94ceaa41577d216b149722261   10.194.159.204                  0   \n",
       "3  70423fa3a1e74d01203cf93b51b9631d   17.230.177.225                  0   \n",
       "4  9880776c7b6038f2af86bd4e18a1b1a4  136.241.219.151                  1   \n",
       "\n",
       "  high_risk_merchant transaction_hour weekend_transaction  \\\n",
       "0              False                0               False   \n",
       "1               True                0               False   \n",
       "2              False                0               False   \n",
       "3              False                0               False   \n",
       "4              False                0               False   \n",
       "\n",
       "                                  velocity_last_hour  is_fraud  \n",
       "0  {'num_transactions': 1197, 'total_amount': 334...     False  \n",
       "1  {'num_transactions': 509, 'total_amount': 2011...      True  \n",
       "2  {'num_transactions': 332, 'total_amount': 3916...     False  \n",
       "3  {'num_transactions': 764, 'total_amount': 2201...     False  \n",
       "4  {'num_transactions': 218, 'total_amount': 4827...      True  \n",
       "\n",
       "[5 rows x 24 columns]"
      ]
     },
     "execution_count": 10,
     "metadata": {},
     "output_type": "execute_result"
    }
   ],
   "source": [
    "my_path = r\"synthetic_fraud_data.csv\"\n",
    "df = pd.read_csv(my_path)\n",
    "df.head()"
   ]
  },
  {
   "cell_type": "code",
   "execution_count": 11,
   "metadata": {},
   "outputs": [
    {
     "name": "stdout",
     "output_type": "stream",
     "text": [
      "<class 'pandas.core.frame.DataFrame'>\n",
      "RangeIndex: 7483766 entries, 0 to 7483765\n",
      "Data columns (total 24 columns):\n",
      " #   Column               Dtype  \n",
      "---  ------               -----  \n",
      " 0   transaction_id       object \n",
      " 1   customer_id          object \n",
      " 2   card_number          int64  \n",
      " 3   timestamp            object \n",
      " 4   merchant_category    object \n",
      " 5   merchant_type        object \n",
      " 6   merchant             object \n",
      " 7   amount               float64\n",
      " 8   currency             object \n",
      " 9   country              object \n",
      " 10  city                 object \n",
      " 11  city_size            object \n",
      " 12  card_type            object \n",
      " 13  card_present         bool   \n",
      " 14  device               object \n",
      " 15  channel              object \n",
      " 16  device_fingerprint   object \n",
      " 17  ip_address           object \n",
      " 18  distance_from_home   int64  \n",
      " 19  high_risk_merchant   bool   \n",
      " 20  transaction_hour     int64  \n",
      " 21  weekend_transaction  bool   \n",
      " 22  velocity_last_hour   object \n",
      " 23  is_fraud             bool   \n",
      "dtypes: bool(4), float64(1), int64(3), object(16)\n",
      "memory usage: 1.1+ GB\n"
     ]
    }
   ],
   "source": [
    "df.info()"
   ]
  },
  {
   "cell_type": "code",
   "execution_count": 12,
   "metadata": {},
   "outputs": [
    {
     "data": {
      "text/html": [
       "<div>\n",
       "<style scoped>\n",
       "    .dataframe tbody tr th:only-of-type {\n",
       "        vertical-align: middle;\n",
       "    }\n",
       "\n",
       "    .dataframe tbody tr th {\n",
       "        vertical-align: top;\n",
       "    }\n",
       "\n",
       "    .dataframe thead th {\n",
       "        text-align: right;\n",
       "    }\n",
       "</style>\n",
       "<table border=\"1\" class=\"dataframe\">\n",
       "  <thead>\n",
       "    <tr style=\"text-align: right;\">\n",
       "      <th></th>\n",
       "      <th>card_number</th>\n",
       "      <th>amount</th>\n",
       "      <th>distance_from_home</th>\n",
       "      <th>transaction_hour</th>\n",
       "    </tr>\n",
       "  </thead>\n",
       "  <tbody>\n",
       "    <tr>\n",
       "      <th>count</th>\n",
       "      <td>7.483766e+06</td>\n",
       "      <td>7.483766e+06</td>\n",
       "      <td>7.483766e+06</td>\n",
       "      <td>7.483766e+06</td>\n",
       "    </tr>\n",
       "    <tr>\n",
       "      <th>mean</th>\n",
       "      <td>4.222100e+15</td>\n",
       "      <td>4.792468e+04</td>\n",
       "      <td>3.220519e-01</td>\n",
       "      <td>1.215467e+01</td>\n",
       "    </tr>\n",
       "    <tr>\n",
       "      <th>std</th>\n",
       "      <td>2.341170e+15</td>\n",
       "      <td>1.775562e+05</td>\n",
       "      <td>4.672628e-01</td>\n",
       "      <td>6.536767e+00</td>\n",
       "    </tr>\n",
       "    <tr>\n",
       "      <th>min</th>\n",
       "      <td>3.700086e+14</td>\n",
       "      <td>1.000000e-02</td>\n",
       "      <td>0.000000e+00</td>\n",
       "      <td>0.000000e+00</td>\n",
       "    </tr>\n",
       "    <tr>\n",
       "      <th>25%</th>\n",
       "      <td>4.004400e+15</td>\n",
       "      <td>3.635300e+02</td>\n",
       "      <td>0.000000e+00</td>\n",
       "      <td>7.000000e+00</td>\n",
       "    </tr>\n",
       "    <tr>\n",
       "      <th>50%</th>\n",
       "      <td>5.010745e+15</td>\n",
       "      <td>1.177450e+03</td>\n",
       "      <td>0.000000e+00</td>\n",
       "      <td>1.200000e+01</td>\n",
       "    </tr>\n",
       "    <tr>\n",
       "      <th>75%</th>\n",
       "      <td>5.999914e+15</td>\n",
       "      <td>2.242953e+04</td>\n",
       "      <td>1.000000e+00</td>\n",
       "      <td>1.800000e+01</td>\n",
       "    </tr>\n",
       "    <tr>\n",
       "      <th>max</th>\n",
       "      <td>6.999728e+15</td>\n",
       "      <td>6.253153e+06</td>\n",
       "      <td>1.000000e+00</td>\n",
       "      <td>2.300000e+01</td>\n",
       "    </tr>\n",
       "  </tbody>\n",
       "</table>\n",
       "</div>"
      ],
      "text/plain": [
       "        card_number        amount  distance_from_home  transaction_hour\n",
       "count  7.483766e+06  7.483766e+06        7.483766e+06      7.483766e+06\n",
       "mean   4.222100e+15  4.792468e+04        3.220519e-01      1.215467e+01\n",
       "std    2.341170e+15  1.775562e+05        4.672628e-01      6.536767e+00\n",
       "min    3.700086e+14  1.000000e-02        0.000000e+00      0.000000e+00\n",
       "25%    4.004400e+15  3.635300e+02        0.000000e+00      7.000000e+00\n",
       "50%    5.010745e+15  1.177450e+03        0.000000e+00      1.200000e+01\n",
       "75%    5.999914e+15  2.242953e+04        1.000000e+00      1.800000e+01\n",
       "max    6.999728e+15  6.253153e+06        1.000000e+00      2.300000e+01"
      ]
     },
     "execution_count": 12,
     "metadata": {},
     "output_type": "execute_result"
    }
   ],
   "source": [
    "df.describe()"
   ]
  },
  {
   "cell_type": "markdown",
   "metadata": {},
   "source": [
    "### Подготовка и заливка таблицы customers"
   ]
  },
  {
   "cell_type": "code",
   "execution_count": 13,
   "metadata": {},
   "outputs": [
    {
     "data": {
      "text/plain": [
       "0          72886\n",
       "1          70474\n",
       "2          10715\n",
       "3          16193\n",
       "4          87572\n",
       "           ...  \n",
       "7483761    11344\n",
       "7483762    38961\n",
       "7483763    75576\n",
       "7483764    82508\n",
       "7483765    20139\n",
       "Name: customer_id, Length: 7483766, dtype: object"
      ]
     },
     "execution_count": 13,
     "metadata": {},
     "output_type": "execute_result"
    }
   ],
   "source": [
    "df['customer_id'] = df['customer_id'].apply(lambda x: re.sub(r'\\D', '', str(x)))\n",
    "df['customer_id']"
   ]
  },
  {
   "cell_type": "code",
   "execution_count": 14,
   "metadata": {},
   "outputs": [],
   "source": [
    "customers_df = df[['customer_id', 'card_number', 'card_type']].drop_duplicates()"
   ]
  },
  {
   "cell_type": "code",
   "execution_count": null,
   "metadata": {},
   "outputs": [],
   "source": [
    "insert_data(\"customers\", customers_df)"
   ]
  },
  {
   "cell_type": "markdown",
   "metadata": {},
   "source": [
    "### Подготовка и заливка таблицы merchants"
   ]
  },
  {
   "cell_type": "code",
   "execution_count": 16,
   "metadata": {},
   "outputs": [
    {
     "name": "stdout",
     "output_type": "stream",
     "text": [
      "Уникальных сочетаний: 105\n"
     ]
    },
    {
     "data": {
      "text/html": [
       "<div>\n",
       "<style scoped>\n",
       "    .dataframe tbody tr th:only-of-type {\n",
       "        vertical-align: middle;\n",
       "    }\n",
       "\n",
       "    .dataframe tbody tr th {\n",
       "        vertical-align: top;\n",
       "    }\n",
       "\n",
       "    .dataframe thead th {\n",
       "        text-align: right;\n",
       "    }\n",
       "</style>\n",
       "<table border=\"1\" class=\"dataframe\">\n",
       "  <thead>\n",
       "    <tr style=\"text-align: right;\">\n",
       "      <th></th>\n",
       "      <th>merchant</th>\n",
       "      <th>merchant_category</th>\n",
       "      <th>merchant_type</th>\n",
       "      <th>high_risk_merchant</th>\n",
       "    </tr>\n",
       "  </thead>\n",
       "  <tbody>\n",
       "    <tr>\n",
       "      <th>27</th>\n",
       "      <td>AMC Theaters</td>\n",
       "      <td>Entertainment</td>\n",
       "      <td>events</td>\n",
       "      <td>True</td>\n",
       "    </tr>\n",
       "    <tr>\n",
       "      <th>72</th>\n",
       "      <td>Airbnb</td>\n",
       "      <td>Travel</td>\n",
       "      <td>booking</td>\n",
       "      <td>True</td>\n",
       "    </tr>\n",
       "    <tr>\n",
       "      <th>62</th>\n",
       "      <td>Aldi</td>\n",
       "      <td>Grocery</td>\n",
       "      <td>physical</td>\n",
       "      <td>False</td>\n",
       "    </tr>\n",
       "    <tr>\n",
       "      <th>129</th>\n",
       "      <td>AliExpress</td>\n",
       "      <td>Retail</td>\n",
       "      <td>online</td>\n",
       "      <td>False</td>\n",
       "    </tr>\n",
       "    <tr>\n",
       "      <th>56</th>\n",
       "      <td>Amazon</td>\n",
       "      <td>Retail</td>\n",
       "      <td>online</td>\n",
       "      <td>False</td>\n",
       "    </tr>\n",
       "    <tr>\n",
       "      <th>...</th>\n",
       "      <td>...</td>\n",
       "      <td>...</td>\n",
       "      <td>...</td>\n",
       "      <td>...</td>\n",
       "    </tr>\n",
       "    <tr>\n",
       "      <th>7</th>\n",
       "      <td>Westin</td>\n",
       "      <td>Travel</td>\n",
       "      <td>hotels</td>\n",
       "      <td>True</td>\n",
       "    </tr>\n",
       "    <tr>\n",
       "      <th>2</th>\n",
       "      <td>Whole Foods</td>\n",
       "      <td>Grocery</td>\n",
       "      <td>physical</td>\n",
       "      <td>False</td>\n",
       "    </tr>\n",
       "    <tr>\n",
       "      <th>73</th>\n",
       "      <td>Xbox Live</td>\n",
       "      <td>Entertainment</td>\n",
       "      <td>gaming</td>\n",
       "      <td>True</td>\n",
       "    </tr>\n",
       "    <tr>\n",
       "      <th>9</th>\n",
       "      <td>eBay</td>\n",
       "      <td>Retail</td>\n",
       "      <td>online</td>\n",
       "      <td>False</td>\n",
       "    </tr>\n",
       "    <tr>\n",
       "      <th>126</th>\n",
       "      <td>edX</td>\n",
       "      <td>Education</td>\n",
       "      <td>online</td>\n",
       "      <td>False</td>\n",
       "    </tr>\n",
       "  </tbody>\n",
       "</table>\n",
       "<p>105 rows × 4 columns</p>\n",
       "</div>"
      ],
      "text/plain": [
       "         merchant merchant_category merchant_type  high_risk_merchant\n",
       "27   AMC Theaters     Entertainment        events                True\n",
       "72         Airbnb            Travel       booking                True\n",
       "62           Aldi           Grocery      physical               False\n",
       "129    AliExpress            Retail        online               False\n",
       "56         Amazon            Retail        online               False\n",
       "..            ...               ...           ...                 ...\n",
       "7          Westin            Travel        hotels                True\n",
       "2     Whole Foods           Grocery      physical               False\n",
       "73      Xbox Live     Entertainment        gaming                True\n",
       "9            eBay            Retail        online               False\n",
       "126           edX         Education        online               False\n",
       "\n",
       "[105 rows x 4 columns]"
      ]
     },
     "execution_count": 16,
     "metadata": {},
     "output_type": "execute_result"
    }
   ],
   "source": [
    "unique_merchants = df[['merchant', 'merchant_category', 'merchant_type', 'high_risk_merchant']].drop_duplicates().shape[0]\n",
    "print(f\"Уникальных сочетаний: {unique_merchants}\")\n",
    "df[['merchant', 'merchant_category', 'merchant_type', 'high_risk_merchant']].drop_duplicates().sort_values('merchant')\n"
   ]
  },
  {
   "cell_type": "code",
   "execution_count": null,
   "metadata": {},
   "outputs": [
    {
     "data": {
      "text/html": [
       "<div>\n",
       "<style scoped>\n",
       "    .dataframe tbody tr th:only-of-type {\n",
       "        vertical-align: middle;\n",
       "    }\n",
       "\n",
       "    .dataframe tbody tr th {\n",
       "        vertical-align: top;\n",
       "    }\n",
       "\n",
       "    .dataframe thead th {\n",
       "        text-align: right;\n",
       "    }\n",
       "</style>\n",
       "<table border=\"1\" class=\"dataframe\">\n",
       "  <thead>\n",
       "    <tr style=\"text-align: right;\">\n",
       "      <th></th>\n",
       "      <th>merchant</th>\n",
       "    </tr>\n",
       "  </thead>\n",
       "  <tbody>\n",
       "    <tr>\n",
       "      <th>27</th>\n",
       "      <td>AMC Theaters</td>\n",
       "    </tr>\n",
       "    <tr>\n",
       "      <th>72</th>\n",
       "      <td>Airbnb</td>\n",
       "    </tr>\n",
       "    <tr>\n",
       "      <th>62</th>\n",
       "      <td>Aldi</td>\n",
       "    </tr>\n",
       "    <tr>\n",
       "      <th>129</th>\n",
       "      <td>AliExpress</td>\n",
       "    </tr>\n",
       "    <tr>\n",
       "      <th>56</th>\n",
       "      <td>Amazon</td>\n",
       "    </tr>\n",
       "    <tr>\n",
       "      <th>...</th>\n",
       "      <td>...</td>\n",
       "    </tr>\n",
       "    <tr>\n",
       "      <th>7</th>\n",
       "      <td>Westin</td>\n",
       "    </tr>\n",
       "    <tr>\n",
       "      <th>2</th>\n",
       "      <td>Whole Foods</td>\n",
       "    </tr>\n",
       "    <tr>\n",
       "      <th>73</th>\n",
       "      <td>Xbox Live</td>\n",
       "    </tr>\n",
       "    <tr>\n",
       "      <th>9</th>\n",
       "      <td>eBay</td>\n",
       "    </tr>\n",
       "    <tr>\n",
       "      <th>126</th>\n",
       "      <td>edX</td>\n",
       "    </tr>\n",
       "  </tbody>\n",
       "</table>\n",
       "<p>105 rows × 1 columns</p>\n",
       "</div>"
      ],
      "text/plain": [
       "         merchant\n",
       "27   AMC Theaters\n",
       "72         Airbnb\n",
       "62           Aldi\n",
       "129    AliExpress\n",
       "56         Amazon\n",
       "..            ...\n",
       "7          Westin\n",
       "2     Whole Foods\n",
       "73      Xbox Live\n",
       "9            eBay\n",
       "126           edX\n",
       "\n",
       "[105 rows x 1 columns]"
      ]
     },
     "execution_count": 17,
     "metadata": {},
     "output_type": "execute_result"
    }
   ],
   "source": [
    "df[['merchant']].drop_duplicates().sort_values('merchant')"
   ]
  },
  {
   "cell_type": "code",
   "execution_count": 18,
   "metadata": {},
   "outputs": [],
   "source": [
    "# Создание merchant_id - превичного ключа\n",
    "merchant_mapping = df[['merchant', 'merchant_category', 'merchant_type', 'high_risk_merchant']].drop_duplicates()\n",
    "merchant_mapping.insert(0, 'merchant_id', range(1000, 1000 + len(merchant_mapping)))\n",
    "\n",
    "# добавляем merchant_id в основной DataFrame\n",
    "df = df.merge(merchant_mapping, on=['merchant'], how='left')\n",
    "merchants_df = merchant_mapping.copy()\n"
   ]
  },
  {
   "cell_type": "code",
   "execution_count": 19,
   "metadata": {},
   "outputs": [
    {
     "name": "stdout",
     "output_type": "stream",
     "text": [
      "<class 'pandas.core.frame.DataFrame'>\n",
      "Index: 105 entries, 0 to 932\n",
      "Data columns (total 5 columns):\n",
      " #   Column              Non-Null Count  Dtype \n",
      "---  ------              --------------  ----- \n",
      " 0   merchant_id         105 non-null    int64 \n",
      " 1   merchant            105 non-null    object\n",
      " 2   merchant_category   105 non-null    object\n",
      " 3   merchant_type       105 non-null    object\n",
      " 4   high_risk_merchant  105 non-null    bool  \n",
      "dtypes: bool(1), int64(1), object(3)\n",
      "memory usage: 4.2+ KB\n"
     ]
    }
   ],
   "source": [
    "merchants_df.info()"
   ]
  },
  {
   "cell_type": "code",
   "execution_count": null,
   "metadata": {},
   "outputs": [],
   "source": [
    "insert_data(\"merchants\", merchants_df)"
   ]
  },
  {
   "cell_type": "markdown",
   "metadata": {},
   "source": [
    "### Заливка таблицы devices"
   ]
  },
  {
   "cell_type": "code",
   "execution_count": 21,
   "metadata": {},
   "outputs": [],
   "source": [
    "# Создание device_id - превичного ключа\n",
    "device_mapping = df[['device', 'device_fingerprint']].drop_duplicates()\n",
    "device_mapping.insert(0, 'device_id', range(1000, 1000 + len(device_mapping)))\n",
    "\n",
    "# добавляем device_id в основной DataFrame\n",
    "df = df.merge(device_mapping, on=['device','device_fingerprint'], how='left')\n",
    "devices_df = device_mapping.copy()\n"
   ]
  },
  {
   "cell_type": "code",
   "execution_count": null,
   "metadata": {},
   "outputs": [],
   "source": [
    "insert_data(\"devices\", devices_df)"
   ]
  },
  {
   "cell_type": "markdown",
   "metadata": {},
   "source": [
    "### Заливка таблицы transactions"
   ]
  },
  {
   "cell_type": "code",
   "execution_count": 23,
   "metadata": {},
   "outputs": [],
   "source": [
    "df[\"distance_from_home\"] = df[\"distance_from_home\"].astype(bool)"
   ]
  },
  {
   "cell_type": "code",
   "execution_count": 24,
   "metadata": {},
   "outputs": [],
   "source": [
    "transactions_df = df[['transaction_id', 'customer_id', 'timestamp', 'transaction_hour', 'weekend_transaction',\n",
    "                      'amount', 'currency', 'merchant_id', 'device_id', 'card_present',\n",
    "                      'distance_from_home', 'ip_address']].drop_duplicates()"
   ]
  },
  {
   "cell_type": "code",
   "execution_count": null,
   "metadata": {},
   "outputs": [],
   "source": [
    "insert_data(\"transactions\", transactions_df)"
   ]
  },
  {
   "cell_type": "markdown",
   "metadata": {},
   "source": [
    "### Подготовка и заливка таблицы velocity"
   ]
  },
  {
   "cell_type": "code",
   "execution_count": 26,
   "metadata": {},
   "outputs": [
    {
     "name": "stdout",
     "output_type": "stream",
     "text": [
      "Строка 0: {'num_transactions': 1197, 'total_amount': 33498556.080464985, 'unique_merchants': 105, 'unique_countries': 12, 'max_single_amount': 1925480.6324148502}\n",
      "Строка 1: {'num_transactions': 509, 'total_amount': 20114759.055250417, 'unique_merchants': 100, 'unique_countries': 12, 'max_single_amount': 5149117.011434267}\n",
      "Строка 2: {'num_transactions': 332, 'total_amount': 39163854.72992601, 'unique_merchants': 97, 'unique_countries': 12, 'max_single_amount': 1852242.1831665323}\n",
      "Строка 3: {'num_transactions': 764, 'total_amount': 22012599.81898404, 'unique_merchants': 105, 'unique_countries': 12, 'max_single_amount': 2055798.460682913}\n",
      "Строка 4: {'num_transactions': 218, 'total_amount': 4827636.199648165, 'unique_merchants': 88, 'unique_countries': 12, 'max_single_amount': 1157231.252130005}\n"
     ]
    }
   ],
   "source": [
    "for index, value in df['velocity_last_hour'].head(5).items():\n",
    "    print(f\"Строка {index}: {value}\")"
   ]
  },
  {
   "cell_type": "code",
   "execution_count": 34,
   "metadata": {},
   "outputs": [],
   "source": [
    "velocity_cols = ['num_transactions', 'total_amount', 'unique_merchants', 'unique_countries', 'max_single_amount']\n",
    "\n",
    "# Раскрываем velocity_last_hour в отдельные колонки\n",
    "df[velocity_cols] = df['velocity_last_hour'].apply(lambda x: eval(x) if isinstance(x, str) else {}).apply(pd.Series)\n",
    "velocity_metrics_df = df[['transaction_id'] + velocity_cols].dropna()\n"
   ]
  },
  {
   "cell_type": "code",
   "execution_count": 35,
   "metadata": {},
   "outputs": [
    {
     "data": {
      "text/plain": [
       "count    7.483766e+06\n",
       "mean     1.726432e+06\n",
       "std      1.398325e+06\n",
       "min      1.454232e-02\n",
       "25%      8.015712e+05\n",
       "50%      1.235738e+06\n",
       "75%      2.290742e+06\n",
       "max      6.253153e+06\n",
       "Name: max_single_amount, dtype: float64"
      ]
     },
     "execution_count": 35,
     "metadata": {},
     "output_type": "execute_result"
    }
   ],
   "source": [
    "velocity_metrics_df['total_amount'].describe()\n",
    "velocity_metrics_df['max_single_amount'].describe()\n"
   ]
  },
  {
   "cell_type": "code",
   "execution_count": 37,
   "metadata": {},
   "outputs": [],
   "source": [
    "insert_data(\"velocity_metrics\", velocity_metrics_df)"
   ]
  },
  {
   "cell_type": "markdown",
   "metadata": {},
   "source": [
    "### Заливка таблицы if_fraud"
   ]
  },
  {
   "cell_type": "code",
   "execution_count": 36,
   "metadata": {},
   "outputs": [],
   "source": [
    "is_fraud_df = df[['transaction_id', 'is_fraud']].drop_duplicates()\n",
    "insert_data(\"fraud_status\", is_fraud_df)"
   ]
  }
 ],
 "metadata": {
  "kernelspec": {
   "display_name": "Python 3",
   "language": "python",
   "name": "python3"
  },
  "language_info": {
   "codemirror_mode": {
    "name": "ipython",
    "version": 3
   },
   "file_extension": ".py",
   "mimetype": "text/x-python",
   "name": "python",
   "nbconvert_exporter": "python",
   "pygments_lexer": "ipython3",
   "version": "3.11.9"
  }
 },
 "nbformat": 4,
 "nbformat_minor": 2
}
